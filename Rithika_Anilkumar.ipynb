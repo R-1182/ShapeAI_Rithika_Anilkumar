{
  "nbformat": 4,
  "nbformat_minor": 0,
  "metadata": {
    "colab": {
      "name": "Rithika_Anilkumar.ipynb",
      "provenance": []
    },
    "kernelspec": {
      "name": "python3",
      "display_name": "Python 3"
    },
    "language_info": {
      "name": "python"
    }
  },
  "cells": [
    {
      "cell_type": "code",
      "metadata": {
        "id": "yG8bZQSMxtMA"
      },
      "source": [
        "from keras.datasets  import mnist\n",
        "\n",
        "data = mnist.load_data()"
      ],
      "execution_count": null,
      "outputs": []
    },
    {
      "cell_type": "code",
      "metadata": {
        "id": "qzZxbMQ0yUYs"
      },
      "source": [
        "((X_train , y_train ), (X_test, y_test)) =  data"
      ],
      "execution_count": 2,
      "outputs": []
    },
    {
      "cell_type": "code",
      "metadata": {
        "id": "eNn4sz2Yyt-H"
      },
      "source": [
        "X_train = X_train.reshape((X_train.shape[0], 28*28)).astype('float32')\n",
        "\n",
        "X_test = X_test.reshape((X_test.shape[0],28*28)).astype('float32')"
      ],
      "execution_count": 3,
      "outputs": []
    },
    {
      "cell_type": "code",
      "metadata": {
        "id": "DLUWXGX3z1wL"
      },
      "source": [
        "X_train = X_train / 255 \n",
        "X_test  = X_test  / 255"
      ],
      "execution_count": 4,
      "outputs": []
    },
    {
      "cell_type": "code",
      "metadata": {
        "id": "VAiS0nmJ0ECA"
      },
      "source": [
        "from keras.utils import np_utils\n",
        "\n",
        "print(y_test.shape)\n",
        "\n",
        "y_train = np_utils.to_categorical(y_train)\n",
        "y_test = np_utils.to_categorical(y_test)\n",
        "\n",
        "num_classes = y_test.shape[1]\n",
        "print(y_test.shape)"
      ],
      "execution_count": null,
      "outputs": []
    },
    {
      "cell_type": "code",
      "metadata": {
        "id": "L0aei5vP1fNy"
      },
      "source": [
        "from keras.models import Sequential\n",
        "from keras.layers import Dense"
      ],
      "execution_count": 6,
      "outputs": []
    },
    {
      "cell_type": "code",
      "metadata": {
        "id": "G81UykH42G7u"
      },
      "source": [
        "model = Sequential()\n",
        "model.add(Dense( 32, input_dim = 28*28, activation = 'relu'))\n",
        "model.add(Dense( 64,  activation= 'relu'))\n",
        "model.add(Dense( 10,  activation = 'softmax'))"
      ],
      "execution_count": 7,
      "outputs": []
    },
    {
      "cell_type": "code",
      "metadata": {
        "id": "ze1hBiXx3Wb4"
      },
      "source": [
        "model.compile(loss = 'categorical_crossentropy', optimizer='adam', metrics =['accuracy'])"
      ],
      "execution_count": 8,
      "outputs": []
    },
    {
      "cell_type": "code",
      "metadata": {
        "id": "I9fZwcWc4Zws"
      },
      "source": [
        "model.summary()"
      ],
      "execution_count": null,
      "outputs": []
    },
    {
      "cell_type": "code",
      "metadata": {
        "id": "o-NBpiN-4lMj"
      },
      "source": [
        "model.fit(X_train , y_train, epochs=10, batch_size =100)"
      ],
      "execution_count": null,
      "outputs": []
    },
    {
      "cell_type": "code",
      "metadata": {
        "colab": {
          "base_uri": "https://localhost:8080/"
        },
        "id": "bazHvrbW5Nk9",
        "outputId": "a8993bff-30bd-4d9c-a2b5-7826b4950c64"
      },
      "source": [
        "scores = model.evaluate(X_test , y_test)\n",
        "print(scores)"
      ],
      "execution_count": 11,
      "outputs": [
        {
          "output_type": "stream",
          "text": [
            "313/313 [==============================] - 0s 1ms/step - loss: 0.1129 - accuracy: 0.9648\n",
            "[0.11293309181928635, 0.9648000001907349]\n"
          ],
          "name": "stdout"
        }
      ]
    }
  ]
}